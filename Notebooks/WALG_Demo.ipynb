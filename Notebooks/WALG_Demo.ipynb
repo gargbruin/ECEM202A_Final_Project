{
  "nbformat": 4,
  "nbformat_minor": 0,
  "metadata": {
    "kernelspec": {
      "display_name": "Python 3",
      "language": "python",
      "name": "python3"
    },
    "language_info": {
      "codemirror_mode": {
        "name": "ipython",
        "version": 3
      },
      "file_extension": ".py",
      "mimetype": "text/x-python",
      "name": "python",
      "nbconvert_exporter": "python",
      "pygments_lexer": "ipython3",
      "version": "3.7.9"
    },
    "colab": {
      "name": "WALG_Demo.ipynb",
      "provenance": [],
      "collapsed_sections": []
    },
    "accelerator": "GPU"
  },
  "cells": [
    {
      "cell_type": "code",
      "metadata": {
        "id": "wmk2Acbo7Cv2",
        "colab": {
          "base_uri": "https://localhost:8080/"
        },
        "outputId": "36a1e573-f16d-46e4-88d5-5a3518392ef4"
      },
      "source": [
        "%load_ext autoreload\n",
        "%autoreload 2"
      ],
      "execution_count": 43,
      "outputs": [
        {
          "output_type": "stream",
          "text": [
            "The autoreload extension is already loaded. To reload it, use:\n",
            "  %reload_ext autoreload\n"
          ],
          "name": "stdout"
        }
      ]
    },
    {
      "cell_type": "code",
      "metadata": {
        "id": "tiu5FWot7Jwh",
        "colab": {
          "base_uri": "https://localhost:8080/"
        },
        "outputId": "e96e9fb4-e5f2-4c39-8b59-652d728d2915"
      },
      "source": [
        "from google.colab import drive\n",
        "drive.mount('/content/drive')"
      ],
      "execution_count": 44,
      "outputs": [
        {
          "output_type": "stream",
          "text": [
            "Drive already mounted at /content/drive; to attempt to forcibly remount, call drive.mount(\"/content/drive\", force_remount=True).\n"
          ],
          "name": "stdout"
        }
      ]
    },
    {
      "cell_type": "code",
      "metadata": {
        "id": "YQ1iPzL4Wjj5",
        "colab": {
          "base_uri": "https://localhost:8080/"
        },
        "outputId": "d6f5dbee-98a7-4c8a-c797-d5e2a7646635"
      },
      "source": [
        "cd '/content/drive/Shared drives/Rahul_Mohit/ECE202A/WALG/'"
      ],
      "execution_count": 45,
      "outputs": [
        {
          "output_type": "stream",
          "text": [
            "/content/drive/Shared drives/Rahul_Mohit/ECE202A/WALG\n"
          ],
          "name": "stdout"
        }
      ]
    },
    {
      "cell_type": "markdown",
      "metadata": {
        "id": "RAAGu9xw-sK8"
      },
      "source": [
        "Create a new folder in your Drive. (I created a folder named HAR) Copy the data files and the 2 pyrhon files to that folder (utils.py and existing_models.py). Then change working directory to that folder."
      ]
    },
    {
      "cell_type": "code",
      "metadata": {
        "id": "YZAUBPgd7Cv9"
      },
      "source": [
        "from collections import Counter\n",
        "import sys\n",
        "import time\n",
        "import os\n",
        "import pandas as pd\n",
        "import tensorflow as tf\n",
        "from tensorflow.keras.callbacks import ModelCheckpoint, TensorBoard\n",
        "from tensorflow.keras.models import load_model\n",
        "import numpy as np\n",
        "from sklearn.metrics import confusion_matrix\n",
        "from sklearn.metrics import f1_score, accuracy_score\n",
        "import matplotlib.pyplot as plt\n",
        "import itertools\n",
        "from tensorflow.keras.models import Sequential\n",
        "from tensorflow.keras.layers import Conv2D, MaxPooling2D, LSTM, Dense, Dropout, Flatten\n",
        "from tensorflow.keras.layers import BatchNormalization, Permute, Reshape"
      ],
      "execution_count": 46,
      "outputs": []
    },
    {
      "cell_type": "code",
      "metadata": {
        "id": "e3vPh-fYj9FY"
      },
      "source": [
        "## Function to reshape data as required by the mnodel.\n",
        "def reshape_data(X_tr, X_va, X_tst, network_type):\n",
        "    _, win_len, dim = X_tr.shape\n",
        "\n",
        "    if network_type == 'CNN' or network_type == 'ConvLSTM':\n",
        "        # make it into (frame_number, dimension, window_size, channel=1) for convNet\n",
        "        X_tr = np.swapaxes(X_tr, 1, 2)\n",
        "        X_va = np.swapaxes(X_va, 1, 2)\n",
        "        X_tst = np.swapaxes(X_tst, 1, 2)\n",
        "\n",
        "        X_tr = np.reshape(X_tr, (-1, dim, win_len, 1))\n",
        "        X_va = np.reshape(X_va, (-1, dim, win_len, 1))\n",
        "        X_tst = np.reshape(X_tst, (-1, dim, win_len, 1))\n",
        "\n",
        "    elif network_type == 'MLP':\n",
        "        X_tr = np.reshape(X_tr, (-1, dim * win_len))\n",
        "        X_va = np.reshape(X_va, (-1, dim * win_len))\n",
        "        X_tst = np.reshape(X_tst, (-1, dim * win_len))\n",
        "\n",
        "    return X_tr, X_va, X_tst\n",
        "\n",
        "## Function to generate sliding windows.\n",
        "def sliding_window(frame_length, step, X, Y, tstamps_all):\n",
        "  X_f = []\n",
        "  Y_f = []\n",
        "  tstamp = []\n",
        "  for loop in range(0,X.shape[0]-frame_length,step):\n",
        "    # X_f.append(X[loop: loop+frame_length]);\n",
        "    tstamp.append(tstamps_all[loop])\n",
        "    X_f.append(\n",
        "      np.vstack((\n",
        "        X[loop: loop+frame_length],\n",
        "        np.mean(X[loop: loop+frame_length], axis=0),\n",
        "        np.std(X[loop: loop+frame_length], axis=0, dtype=np.float64)\n",
        "      ))\n",
        "    );\n",
        "    Y_f.append(Y[loop]);\n",
        "  return X_f, Y_f, tstamp\n",
        "\n",
        "## Function to store data as numpy files.\n",
        "def numpify_and_store(X, y, X_name, y_name, outdatapath, shuffle=False):\n",
        "      X = np.array(X)\n",
        "      y = np.array(y)\n",
        "      # Shuffle the train set\n",
        "      if shuffle is True:\n",
        "          np.random.seed(123)\n",
        "          neworder = np.random.permutation(X.shape[0])\n",
        "          X = X[neworder, :, :]\n",
        "          y = y[neworder]\n",
        "      # Save binary file\n",
        "      xpath = os.path.join(outdatapath, X_name)\n",
        "      ypath = os.path.join(outdatapath, y_name)\n",
        "      np.save(xpath, X)\n",
        "      np.save(ypath, y)\n",
        "      print('Storing ' + xpath, ypath)"
      ],
      "execution_count": 47,
      "outputs": []
    },
    {
      "cell_type": "code",
      "metadata": {
        "id": "BgTsD0dfl7m5"
      },
      "source": [
        "# Variables\n",
        "frame_length  = int(200);\n",
        "step          = 40;\n",
        "network_type  = \"CNN\";\n",
        "model_name    = 'final_CNN_1608149269_golden_random.hdf5';\n",
        "\n",
        "file_name     = '2020_12_16_Suparno_All';\n",
        "tstamp_file_name = './Data/Live_Data/tstamps/'+file_name+'_tstamp.csv';\n",
        "\n",
        "ACTIVITIES_MAP = {\n",
        "    0: 'Walking',\n",
        "    1: 'Stairs',\n",
        "    2: 'Sitting',\n",
        "    3: 'Brushing Teeth',\n",
        "    4: 'Eating',\n",
        "    5: 'Jogging',\n",
        "    6: 'Clapping'\n",
        "}"
      ],
      "execution_count": 48,
      "outputs": []
    },
    {
      "cell_type": "markdown",
      "metadata": {
        "id": "Bda4FCok166c"
      },
      "source": [
        "# Data Preprocessing\n",
        "\n",
        "* Read CSV\n",
        "* Split data into windows\n",
        "* Add Mean & Std. Dev. in windows\n",
        "* Save processed data as numpy files.\n",
        "* Store timestamps of the windows as CSV file."
      ]
    },
    {
      "cell_type": "code",
      "metadata": {
        "colab": {
          "base_uri": "https://localhost:8080/"
        },
        "id": "zSwoqA7p1uPf",
        "outputId": "f3c75364-b758-43a2-a117-9533a446c86c"
      },
      "source": [
        "file_path = './Data/Live_Data/raw/'+file_name+'.csv'\n",
        "raw_data = pd.read_csv(file_path)\n",
        "formatted_data = pd.DataFrame(\n",
        "    {\n",
        "        \"acc_x\":   raw_data.loc[:,'accelerometerAccelerationX(G)'],\n",
        "        \"acc_y\":   raw_data.loc[:,'accelerometerAccelerationY(G)'],\n",
        "        \"acc_z\":   raw_data.loc[:,'accelerometerAccelerationZ(G)'],\n",
        "        \"gyro_x\":  raw_data.loc[:,'motionRotationRateX(rad/s)'],\n",
        "        \"gyro_y\":  raw_data.loc[:,'motionRotationRateY(rad/s)'],\n",
        "        \"gyro_z\":  raw_data.loc[:,'motionRotationRateZ(rad/s)'],\n",
        "        \"label\":   raw_data.loc[:,'label']\n",
        "    }\n",
        ")\n",
        "tstamps_all = raw_data.loc[:,'loggingTime(txt)']\n",
        "x_np = formatted_data.iloc[:,0:formatted_data.shape[1]-1].to_numpy();\n",
        "y_np = formatted_data['label'].to_numpy();\n",
        "x_psw_np, y_psw_np, tstamp = sliding_window(frame_length, step, x_np, y_np, tstamps_all);\n",
        "numpify_and_store(\n",
        "  x_psw_np, \n",
        "  y_psw_np, \n",
        "  X_name='X_'+file_name, \n",
        "  y_name='Y_'+file_name, \n",
        "  outdatapath='./Data/Live_Data/processed/', \n",
        "  shuffle=False \n",
        ");\n",
        "np.savetxt(\n",
        "    './Data/Live_Data/tstamps/'+file_name+'_tstamp.csv',  \n",
        "    tstamp, \n",
        "    delimiter =\", \",\n",
        "    fmt = \"%s\"\n",
        ");"
      ],
      "execution_count": 49,
      "outputs": [
        {
          "output_type": "stream",
          "text": [
            "Storing ./Data/Live_Data/processed/X_2020_12_16_Suparno_All ./Data/Live_Data/processed/Y_2020_12_16_Suparno_All\n"
          ],
          "name": "stdout"
        }
      ]
    },
    {
      "cell_type": "markdown",
      "metadata": {
        "id": "Em9VJNjr2ViP"
      },
      "source": [
        "# Inference\n",
        "\n",
        "* Load trained model.\n",
        "* Predicit activities at different time stamps.\n",
        "* Post-process predictions.\n",
        "* Print processed predictions with timestamps. "
      ]
    },
    {
      "cell_type": "code",
      "metadata": {
        "id": "ZhiQIvfBVf3M"
      },
      "source": [
        "model = load_model('./Models/WISDM_PAMAP2/'+model_name)"
      ],
      "execution_count": 50,
      "outputs": []
    },
    {
      "cell_type": "code",
      "metadata": {
        "id": "boWa5B_c2FCX",
        "colab": {
          "base_uri": "https://localhost:8080/"
        },
        "outputId": "fbc57068-72c8-4383-b6e2-0ed4c305fc51"
      },
      "source": [
        "X_data0 = np.load('./Data/Live_Data/processed/X_'+file_name+'.npy')\n",
        "Y_true = np.load('./Data/Live_Data/processed/Y_'+file_name+'.npy')\n",
        "tstamp_data = pd.read_csv(tstamp_file_name, header=None)\n",
        "X_data, a, b = reshape_data(X_data0, X_data0, X_data0, network_type)\n",
        "Y_pred = np.argmax(model.predict(X_data), axis=1)\n",
        "last_act1 = Y_pred[0]\n",
        "last_act2 = Y_pred[0]\n",
        "last_act3 = Y_pred[0]\n",
        "last_printed = -1\n",
        "print(\"===========================================\");\n",
        "print(\"       DATE      TIME     ACTIVITY\")\n",
        "print(\"===========================================\");\n",
        "for x in range(len(Y_pred)):\n",
        "  last_act1 = last_act2\n",
        "  last_act2 = last_act3\n",
        "  last_act3 = Y_pred[x]\n",
        "  if ((x==0) | ((last_act3 == Y_pred[x]) & (last_act3 == last_act2) & (last_act2 == last_act1) & (last_printed != Y_pred[x]))):\n",
        "    last_printed = Y_pred[x]\n",
        "    print(\"    {}   {}\".format(tstamp_data.iloc[x,0][:-10], ACTIVITIES_MAP[Y_pred[x]]))\n",
        "print(\"===========================================\");"
      ],
      "execution_count": 51,
      "outputs": [
        {
          "output_type": "stream",
          "text": [
            "===========================================\n",
            "       DATE      TIME     ACTIVITY\n",
            "===========================================\n",
            "    2020-12-16 17:39:31   Walking\n",
            "    2020-12-16 17:40:51   Eating\n",
            "    2020-12-16 17:41:07   Sitting\n",
            "    2020-12-16 17:41:43   Eating\n",
            "    2020-12-16 17:42:37   Sitting\n",
            "    2020-12-16 17:42:55   Eating\n",
            "    2020-12-16 17:44:29   Brushing Teeth\n",
            "===========================================\n"
          ],
          "name": "stdout"
        }
      ]
    }
  ]
}