{
  "nbformat": 4,
  "nbformat_minor": 0,
  "metadata": {
    "colab": {
      "name": "Preprocess_WISDM_PAMAP2.ipynb",
      "provenance": [],
      "collapsed_sections": []
    },
    "kernelspec": {
      "name": "python3",
      "display_name": "Python 3"
    }
  },
  "cells": [
    {
      "cell_type": "code",
      "metadata": {
        "id": "dfS8gr9UrATN",
        "colab": {
          "base_uri": "https://localhost:8080/"
        },
        "outputId": "e3767a2a-5472-4272-cd06-684658d9edd4"
      },
      "source": [
        "%load_ext autoreload\n",
        "%autoreload 2"
      ],
      "execution_count": 41,
      "outputs": [
        {
          "output_type": "stream",
          "text": [
            "The autoreload extension is already loaded. To reload it, use:\n",
            "  %reload_ext autoreload\n"
          ],
          "name": "stdout"
        }
      ]
    },
    {
      "cell_type": "code",
      "metadata": {
        "id": "yG5TpVaurL9s",
        "colab": {
          "base_uri": "https://localhost:8080/"
        },
        "outputId": "bb3a9cc8-59ba-475f-c7ef-fa2140fca084"
      },
      "source": [
        "from google.colab import drive\n",
        "drive.mount('/content/drive')"
      ],
      "execution_count": 42,
      "outputs": [
        {
          "output_type": "stream",
          "text": [
            "Drive already mounted at /content/drive; to attempt to forcibly remount, call drive.mount(\"/content/drive\", force_remount=True).\n"
          ],
          "name": "stdout"
        }
      ]
    },
    {
      "cell_type": "code",
      "metadata": {
        "id": "FTGAyMnNrN3S",
        "colab": {
          "base_uri": "https://localhost:8080/"
        },
        "outputId": "19780db7-cf88-40b5-e98a-e1b7b773d67f"
      },
      "source": [
        "cd '/content/drive/Shared drives/Rahul_Mohit/ECE202A/WALG/Data/WISDM_PAMAP2'"
      ],
      "execution_count": 43,
      "outputs": [
        {
          "output_type": "stream",
          "text": [
            "/content/drive/Shared drives/Rahul_Mohit/ECE202A/WALG/Data/WISDM_PAMAP2\n"
          ],
          "name": "stdout"
        }
      ]
    },
    {
      "cell_type": "code",
      "metadata": {
        "id": "H8HaQbBCEzM-"
      },
      "source": [
        "import pandas as pd\n",
        "import numpy as np\n",
        "import os"
      ],
      "execution_count": 44,
      "outputs": []
    },
    {
      "cell_type": "code",
      "metadata": {
        "id": "k8m48aR25c8h"
      },
      "source": [
        "## Function to get one-hot label for the activity.\n",
        "def label_to_onehot(label):\n",
        "  onehot = np.zeros(shape=num_activities)\n",
        "  idx = ACTIVITIES_MAP[label]\n",
        "  onehot[idx] = 1\n",
        "  return onehot;\n",
        "\n",
        "## Function to geenerate sliding windows.\n",
        "def sliding_window(frame_length, step, X):\n",
        "    X_f = []\n",
        "    Y_f = []\n",
        "    users = np.unique(X[:,0]);\n",
        "    for user in users:\n",
        "      user_rows = X[X[:,0]==user];\n",
        "      activities = np.unique(user_rows[:,1]);\n",
        "      for activity in activities:\n",
        "        if activity in ACTIVITIES_MAP:\n",
        "          activity_rows = user_rows[user_rows[:,1]==activity];\n",
        "          onehot_label = label_to_onehot(activity)\n",
        "          for loop in range(0,activity_rows.shape[0]-frame_length,step):\n",
        "            X_f.append(\n",
        "              np.vstack((\n",
        "                activity_rows[loop: loop+frame_length,3:9],\n",
        "                np.mean(activity_rows[loop: loop+frame_length,3:9], axis=0),\n",
        "                np.std(activity_rows[loop: loop+frame_length,3:9], axis=0, dtype=np.float64)\n",
        "              )\n",
        "            ));\n",
        "            Y_f.append(onehot_label);\n",
        "    return X_f, Y_f\n",
        "\n",
        "## Keep only accel and gyro data from hand sensor from PAMAP2 Dataset\n",
        "def get_hand_ag(input_d):\n",
        "  filtered_d = np.empty([input_d.shape[0], input_d.shape[1], 6])\n",
        "  for x in range(input_d.shape[0]):\n",
        "    for y in range(input_d.shape[1]):\n",
        "      for z in range(6):\n",
        "        filtered_d[x][y][z] = input_d[x][y][z]\n",
        "  return filtered_d\n",
        "\n",
        "## Save Data as numpy files\n",
        "def numpify_and_store(X, y, X_name, y_name, outdatapath, shuffle=False):\n",
        "    X = np.array(X)\n",
        "    y = np.array(y)\n",
        "    # Shuffle the train set\n",
        "    if shuffle is True:\n",
        "        np.random.seed(123)\n",
        "        neworder = np.random.permutation(X.shape[0])\n",
        "        X = X[neworder, :, :]\n",
        "        y = y[neworder, :]\n",
        "    # Save binary file\n",
        "    xpath = os.path.join(outdatapath, X_name)\n",
        "    ypath = os.path.join(outdatapath, y_name)\n",
        "    np.save(xpath, X)\n",
        "    np.save(ypath, y)\n",
        "    print('   -> Storing data as ' + xpath, ypath)"
      ],
      "execution_count": 45,
      "outputs": []
    },
    {
      "cell_type": "code",
      "metadata": {
        "id": "F3H6-BDgO6i8"
      },
      "source": [
        "## Variables\n",
        "final_dataset  = 'WISDM_PAMAP2';\n",
        "wisdm_raw_dir  = '../WISDM/wisdm-dataset/raw/watch/';\n",
        "pamap2_dir     = '../PAMAP2/';\n",
        "num_activities = 7;\n",
        "frame_length   = int(200);\n",
        "step           = 40;\n",
        "num_train_user = 35;\n",
        "num_val_user   = 8;\n",
        "num_test_user  = 8;\n",
        "\n",
        "train_start_user = 1600;\n",
        "train_end_user   = train_start_user+num_train_user-1;\n",
        "val_start_user   = train_end_user+1;\n",
        "val_end_user     = val_start_user+num_val_user-1;\n",
        "test_start_user  = val_end_user+1;\n",
        "test_end_user    = test_start_user+num_test_user-1;\n",
        "\n",
        "final_dataset_dir = './';\n",
        "X_train_file      = 'X_' + final_dataset + '_train';\n",
        "Y_train_file      = 'Y_' + final_dataset + '_train';\n",
        "X_val_file        = 'X_' + final_dataset + '_val';\n",
        "Y_val_file        = 'Y_' + final_dataset + '_val';\n",
        "X_test_file       = 'X_' + final_dataset + '_test';\n",
        "Y_test_file       = 'Y_' + final_dataset + '_test';\n",
        "\n",
        "ACTIVITIES_MAP = {\n",
        "    'A' : 0,\n",
        "    'B' : 5,\n",
        "    'C' : 1,\n",
        "    'D' : 2,\n",
        "    'F' : 2,\n",
        "    'G' : 3,\n",
        "    'I' : 4,\n",
        "    'J' : 4,\n",
        "    'R' : 6\n",
        "}"
      ],
      "execution_count": 46,
      "outputs": []
    },
    {
      "cell_type": "code",
      "metadata": {
        "id": "m9xWYe8_P1al"
      },
      "source": [
        "#! sed -i -e \"s/;//g\" wisdm-dataset/raw/watch/*/*.txt\n",
        "#! for f in wisdm-dataset/raw/watch/*/*.txt; do  mv \"$f\" \"${f%.txt}.csv\"; done"
      ],
      "execution_count": 47,
      "outputs": []
    },
    {
      "cell_type": "code",
      "metadata": {
        "id": "ZlAFjmZ1W2jr",
        "colab": {
          "base_uri": "https://localhost:8080/"
        },
        "outputId": "8d88bd5a-fd0e-4e83-f620-a52618cb7c4f"
      },
      "source": [
        "merge_l = [];\n",
        "print (\"Reading CSV files for WISDM dataset:\");\n",
        "for user in range(1600,1651):\n",
        "  print (\"   => Reading CSV file for user {}\".format(user));\n",
        "  accel_csv = wisdm_raw_dir + \"accel/data_\" + str(user) + \"_accel_watch.csv\";\n",
        "  gyro_csv  = wisdm_raw_dir + \"gyro/data_\" + str(user) + \"_gyro_watch.csv\";\n",
        "  accel_df  = pd.read_csv(accel_csv, names=[\"User\", \"Activity\", \"Time_Stamp\", \"Accel_X\", \"Accel_Y\", \"Accel_Z\"]);\n",
        "  gyro_df   = pd.read_csv(gyro_csv, names=[\"User\", \"Activity\", \"Time_Stamp\", \"Gyro_X\", \"Gyro_Y\", \"Gyro_Z\"]);\n",
        "  merge_df  = accel_df.merge(gyro_df, how='inner', on = [\"User\", \"Activity\", \"Time_Stamp\"]);\n",
        "  merge_l.append(merge_df);\n",
        "\n",
        "merged_df = pd.concat(merge_l);\n",
        "\n",
        "print (\"Activty list per user:\");\n",
        "for user in range(1600,1651):\n",
        "  print (\"   => \",user, np.unique(merged_df[merged_df['User']==user].Activity).shape[0], np.unique(merged_df[merged_df['User']==user].Activity))\n",
        "\n",
        "## Splitting Data into Train, Test and Validation\n",
        "print (\"Splitting dataset into train, validation and test datasets.\");\n",
        "train_df = merged_df.loc[(merged_df['User'] >= train_start_user) & (merged_df['User'] <= train_end_user)]\n",
        "val_df   = merged_df.loc[(merged_df['User'] >= val_start_user  ) & (merged_df['User'] <= val_end_user  )]\n",
        "test_df  = merged_df.loc[(merged_df['User'] >= test_start_user ) & (merged_df['User'] <= test_end_user )]\n",
        "\n",
        "train_np = train_df.to_numpy();\n",
        "val_np   = val_df.to_numpy();\n",
        "test_np  = test_df.to_numpy();\n",
        "\n",
        "## Generating sliding windows for the dataset\n",
        "print (\"Generating sliding windows from the data.\");\n",
        "x_train_psw_np, y_train_psw_np = sliding_window(frame_length, step, train_np);\n",
        "x_val_psw_np,   y_val_psw_np   = sliding_window(frame_length, step, val_np);\n",
        "x_test_psw_np,  y_test_psw_np  = sliding_window(frame_length, step, test_np);\n",
        "\n",
        "## Add data from PAMAP2\n",
        "print (\"Adding PAMAP2 data:\");\n",
        "for activity, code in [\"sitting\", \"D\"], [\"walking\",\"A\"]:\n",
        "  print (\"   => Adding PAMAP2 data for activity: \",activity);\n",
        "  X_train_P = np.load(pamap2_dir + activity + '/X_PAMAP2_train.npy');\n",
        "  X_val_P   = np.load(pamap2_dir + activity + '/X_PAMAP2_val.npy');\n",
        "  X_test_P  = np.load(pamap2_dir + activity + '/X_PAMAP2_test.npy');\n",
        "  X_train_P = get_hand_ag(X_train_P);\n",
        "  X_val_P   = get_hand_ag(X_val_P);\n",
        "  X_test_P  = get_hand_ag(X_test_P);\n",
        "  for x in X_train_P:\n",
        "    x_train_psw_np.append(x);\n",
        "    y_train_psw_np.append(label_to_onehot(code));\n",
        "  for x in X_val_P:\n",
        "    x_val_psw_np.append(x);\n",
        "    y_val_psw_np.append(label_to_onehot(code));\n",
        "  for x in X_test_P:\n",
        "    x_test_psw_np.append(x);\n",
        "    y_test_psw_np.append(label_to_onehot(code));\n",
        "\n",
        "## Saving data as numpy files.\n",
        "print (\"Saving data as numpy files.\");\n",
        "numpify_and_store(\n",
        "  x_train_psw_np, \n",
        "  y_train_psw_np, \n",
        "  X_name=X_train_file,\n",
        "  y_name=Y_train_file,\n",
        "  outdatapath=final_dataset_dir, \n",
        "  shuffle=True \n",
        ");\n",
        "numpify_and_store(\n",
        "  x_val_psw_np, \n",
        "  y_val_psw_np, \n",
        "  X_name=X_val_file,\n",
        "  y_name=Y_val_file,\n",
        "  outdatapath=final_dataset_dir, \n",
        "  shuffle=False \n",
        ");\n",
        "numpify_and_store(\n",
        "  x_test_psw_np, \n",
        "  y_test_psw_np, \n",
        "  X_name=X_test_file,\n",
        "  y_name=Y_test_file,\n",
        "  outdatapath=final_dataset_dir, \n",
        "  shuffle=False \n",
        ");"
      ],
      "execution_count": 48,
      "outputs": [
        {
          "output_type": "stream",
          "text": [
            "Reading CSV files for WISDM dataset:\n",
            "   => Reading CSV file for user 1600\n",
            "   => Reading CSV file for user 1601\n",
            "   => Reading CSV file for user 1602\n",
            "   => Reading CSV file for user 1603\n",
            "   => Reading CSV file for user 1604\n",
            "   => Reading CSV file for user 1605\n",
            "   => Reading CSV file for user 1606\n",
            "   => Reading CSV file for user 1607\n",
            "   => Reading CSV file for user 1608\n",
            "   => Reading CSV file for user 1609\n",
            "   => Reading CSV file for user 1610\n",
            "   => Reading CSV file for user 1611\n",
            "   => Reading CSV file for user 1612\n",
            "   => Reading CSV file for user 1613\n",
            "   => Reading CSV file for user 1614\n",
            "   => Reading CSV file for user 1615\n",
            "   => Reading CSV file for user 1616\n",
            "   => Reading CSV file for user 1617\n",
            "   => Reading CSV file for user 1618\n",
            "   => Reading CSV file for user 1619\n",
            "   => Reading CSV file for user 1620\n",
            "   => Reading CSV file for user 1621\n",
            "   => Reading CSV file for user 1622\n",
            "   => Reading CSV file for user 1623\n",
            "   => Reading CSV file for user 1624\n",
            "   => Reading CSV file for user 1625\n",
            "   => Reading CSV file for user 1626\n",
            "   => Reading CSV file for user 1627\n",
            "   => Reading CSV file for user 1628\n",
            "   => Reading CSV file for user 1629\n",
            "   => Reading CSV file for user 1630\n",
            "   => Reading CSV file for user 1631\n",
            "   => Reading CSV file for user 1632\n",
            "   => Reading CSV file for user 1633\n",
            "   => Reading CSV file for user 1634\n",
            "   => Reading CSV file for user 1635\n",
            "   => Reading CSV file for user 1636\n",
            "   => Reading CSV file for user 1637\n",
            "   => Reading CSV file for user 1638\n",
            "   => Reading CSV file for user 1639\n",
            "   => Reading CSV file for user 1640\n",
            "   => Reading CSV file for user 1641\n",
            "   => Reading CSV file for user 1642\n",
            "   => Reading CSV file for user 1643\n",
            "   => Reading CSV file for user 1644\n",
            "   => Reading CSV file for user 1645\n",
            "   => Reading CSV file for user 1646\n",
            "   => Reading CSV file for user 1647\n",
            "   => Reading CSV file for user 1648\n",
            "   => Reading CSV file for user 1649\n",
            "   => Reading CSV file for user 1650\n",
            "Activty list per user:\n",
            "   =>  1600 18 ['A' 'B' 'C' 'D' 'E' 'F' 'G' 'H' 'I' 'J' 'K' 'L' 'M' 'O' 'P' 'Q' 'R' 'S']\n",
            "   =>  1601 18 ['A' 'B' 'C' 'D' 'E' 'F' 'G' 'H' 'I' 'J' 'K' 'L' 'M' 'O' 'P' 'Q' 'R' 'S']\n",
            "   =>  1602 18 ['A' 'B' 'C' 'D' 'E' 'F' 'G' 'H' 'I' 'J' 'K' 'L' 'M' 'O' 'P' 'Q' 'R' 'S']\n",
            "   =>  1603 18 ['A' 'B' 'C' 'D' 'E' 'F' 'G' 'H' 'I' 'J' 'K' 'L' 'M' 'O' 'P' 'Q' 'R' 'S']\n",
            "   =>  1604 18 ['A' 'B' 'C' 'D' 'E' 'F' 'G' 'H' 'I' 'J' 'K' 'L' 'M' 'O' 'P' 'Q' 'R' 'S']\n",
            "   =>  1605 18 ['A' 'B' 'C' 'D' 'E' 'F' 'G' 'H' 'I' 'J' 'K' 'L' 'M' 'O' 'P' 'Q' 'R' 'S']\n",
            "   =>  1606 18 ['A' 'B' 'C' 'D' 'E' 'F' 'G' 'H' 'I' 'J' 'K' 'L' 'M' 'O' 'P' 'Q' 'R' 'S']\n",
            "   =>  1607 18 ['A' 'B' 'C' 'D' 'E' 'F' 'G' 'H' 'I' 'J' 'K' 'L' 'M' 'O' 'P' 'Q' 'R' 'S']\n",
            "   =>  1608 18 ['A' 'B' 'C' 'D' 'E' 'F' 'G' 'H' 'I' 'J' 'K' 'L' 'M' 'O' 'P' 'Q' 'R' 'S']\n",
            "   =>  1609 18 ['A' 'B' 'C' 'D' 'E' 'F' 'G' 'H' 'I' 'J' 'K' 'L' 'M' 'O' 'P' 'Q' 'R' 'S']\n",
            "   =>  1610 18 ['A' 'B' 'C' 'D' 'E' 'F' 'G' 'H' 'I' 'J' 'K' 'L' 'M' 'O' 'P' 'Q' 'R' 'S']\n",
            "   =>  1611 18 ['A' 'B' 'C' 'D' 'E' 'F' 'G' 'H' 'I' 'J' 'K' 'L' 'M' 'O' 'P' 'Q' 'R' 'S']\n",
            "   =>  1612 18 ['A' 'B' 'C' 'D' 'E' 'F' 'G' 'H' 'I' 'J' 'K' 'L' 'M' 'O' 'P' 'Q' 'R' 'S']\n",
            "   =>  1613 18 ['A' 'B' 'C' 'D' 'E' 'F' 'G' 'H' 'I' 'J' 'K' 'L' 'M' 'O' 'P' 'Q' 'R' 'S']\n",
            "   =>  1614 18 ['A' 'B' 'C' 'D' 'E' 'F' 'G' 'H' 'I' 'J' 'K' 'L' 'M' 'O' 'P' 'Q' 'R' 'S']\n",
            "   =>  1615 18 ['A' 'B' 'C' 'D' 'E' 'F' 'G' 'H' 'I' 'J' 'K' 'L' 'M' 'O' 'P' 'Q' 'R' 'S']\n",
            "   =>  1616 17 ['A' 'C' 'D' 'E' 'F' 'G' 'H' 'I' 'J' 'K' 'L' 'M' 'O' 'P' 'Q' 'R' 'S']\n",
            "   =>  1617 18 ['A' 'B' 'C' 'D' 'E' 'F' 'G' 'H' 'I' 'J' 'K' 'L' 'M' 'O' 'P' 'Q' 'R' 'S']\n",
            "   =>  1618 17 ['A' 'B' 'C' 'D' 'E' 'F' 'G' 'H' 'I' 'J' 'K' 'L' 'M' 'P' 'Q' 'R' 'S']\n",
            "   =>  1619 18 ['A' 'B' 'C' 'D' 'E' 'F' 'G' 'H' 'I' 'J' 'K' 'L' 'M' 'O' 'P' 'Q' 'R' 'S']\n",
            "   =>  1620 18 ['A' 'B' 'C' 'D' 'E' 'F' 'G' 'H' 'I' 'J' 'K' 'L' 'M' 'O' 'P' 'Q' 'R' 'S']\n",
            "   =>  1621 18 ['A' 'B' 'C' 'D' 'E' 'F' 'G' 'H' 'I' 'J' 'K' 'L' 'M' 'O' 'P' 'Q' 'R' 'S']\n",
            "   =>  1622 18 ['A' 'B' 'C' 'D' 'E' 'F' 'G' 'H' 'I' 'J' 'K' 'L' 'M' 'O' 'P' 'Q' 'R' 'S']\n",
            "   =>  1623 18 ['A' 'B' 'C' 'D' 'E' 'F' 'G' 'H' 'I' 'J' 'K' 'L' 'M' 'O' 'P' 'Q' 'R' 'S']\n",
            "   =>  1624 18 ['A' 'B' 'C' 'D' 'E' 'F' 'G' 'H' 'I' 'J' 'K' 'L' 'M' 'O' 'P' 'Q' 'R' 'S']\n",
            "   =>  1625 18 ['A' 'B' 'C' 'D' 'E' 'F' 'G' 'H' 'I' 'J' 'K' 'L' 'M' 'O' 'P' 'Q' 'R' 'S']\n",
            "   =>  1626 18 ['A' 'B' 'C' 'D' 'E' 'F' 'G' 'H' 'I' 'J' 'K' 'L' 'M' 'O' 'P' 'Q' 'R' 'S']\n",
            "   =>  1627 18 ['A' 'B' 'C' 'D' 'E' 'F' 'G' 'H' 'I' 'J' 'K' 'L' 'M' 'O' 'P' 'Q' 'R' 'S']\n",
            "   =>  1628 18 ['A' 'B' 'C' 'D' 'E' 'F' 'G' 'H' 'I' 'J' 'K' 'L' 'M' 'O' 'P' 'Q' 'R' 'S']\n",
            "   =>  1629 18 ['A' 'B' 'C' 'D' 'E' 'F' 'G' 'H' 'I' 'J' 'K' 'L' 'M' 'O' 'P' 'Q' 'R' 'S']\n",
            "   =>  1630 18 ['A' 'B' 'C' 'D' 'E' 'F' 'G' 'H' 'I' 'J' 'K' 'L' 'M' 'O' 'P' 'Q' 'R' 'S']\n",
            "   =>  1631 18 ['A' 'B' 'C' 'D' 'E' 'F' 'G' 'H' 'I' 'J' 'K' 'L' 'M' 'O' 'P' 'Q' 'R' 'S']\n",
            "   =>  1632 18 ['A' 'B' 'C' 'D' 'E' 'F' 'G' 'H' 'I' 'J' 'K' 'L' 'M' 'O' 'P' 'Q' 'R' 'S']\n",
            "   =>  1633 18 ['A' 'B' 'C' 'D' 'E' 'F' 'G' 'H' 'I' 'J' 'K' 'L' 'M' 'O' 'P' 'Q' 'R' 'S']\n",
            "   =>  1634 18 ['A' 'B' 'C' 'D' 'E' 'F' 'G' 'H' 'I' 'J' 'K' 'L' 'M' 'O' 'P' 'Q' 'R' 'S']\n",
            "   =>  1635 18 ['A' 'B' 'C' 'D' 'E' 'F' 'G' 'H' 'I' 'J' 'K' 'L' 'M' 'O' 'P' 'Q' 'R' 'S']\n",
            "   =>  1636 18 ['A' 'B' 'C' 'D' 'E' 'F' 'G' 'H' 'I' 'J' 'K' 'L' 'M' 'O' 'P' 'Q' 'R' 'S']\n",
            "   =>  1637 16 ['A' 'B' 'D' 'E' 'F' 'G' 'H' 'I' 'K' 'L' 'M' 'O' 'P' 'Q' 'R' 'S']\n",
            "   =>  1638 16 ['A' 'B' 'C' 'D' 'E' 'F' 'G' 'I' 'J' 'K' 'L' 'M' 'P' 'Q' 'R' 'S']\n",
            "   =>  1639 17 ['A' 'B' 'C' 'D' 'E' 'F' 'G' 'H' 'I' 'J' 'K' 'M' 'O' 'P' 'Q' 'R' 'S']\n",
            "   =>  1640 16 ['A' 'B' 'D' 'F' 'G' 'H' 'I' 'J' 'K' 'L' 'M' 'O' 'P' 'Q' 'R' 'S']\n",
            "   =>  1641 18 ['A' 'B' 'C' 'D' 'E' 'F' 'G' 'H' 'I' 'J' 'K' 'L' 'M' 'O' 'P' 'Q' 'R' 'S']\n",
            "   =>  1642 16 ['A' 'B' 'D' 'E' 'G' 'H' 'I' 'J' 'K' 'L' 'M' 'O' 'P' 'Q' 'R' 'S']\n",
            "   =>  1643 18 ['A' 'B' 'C' 'D' 'E' 'F' 'G' 'H' 'I' 'J' 'K' 'L' 'M' 'O' 'P' 'Q' 'R' 'S']\n",
            "   =>  1644 18 ['A' 'B' 'C' 'D' 'E' 'F' 'G' 'H' 'I' 'J' 'K' 'L' 'M' 'O' 'P' 'Q' 'R' 'S']\n",
            "   =>  1645 18 ['A' 'B' 'C' 'D' 'E' 'F' 'G' 'H' 'I' 'J' 'K' 'L' 'M' 'O' 'P' 'Q' 'R' 'S']\n",
            "   =>  1646 18 ['A' 'B' 'C' 'D' 'E' 'F' 'G' 'H' 'I' 'J' 'K' 'L' 'M' 'O' 'P' 'Q' 'R' 'S']\n",
            "   =>  1647 18 ['A' 'B' 'C' 'D' 'E' 'F' 'G' 'H' 'I' 'J' 'K' 'L' 'M' 'O' 'P' 'Q' 'R' 'S']\n",
            "   =>  1648 18 ['A' 'B' 'C' 'D' 'E' 'F' 'G' 'H' 'I' 'J' 'K' 'L' 'M' 'O' 'P' 'Q' 'R' 'S']\n",
            "   =>  1649 18 ['A' 'B' 'C' 'D' 'E' 'F' 'G' 'H' 'I' 'J' 'K' 'L' 'M' 'O' 'P' 'Q' 'R' 'S']\n",
            "   =>  1650 18 ['A' 'B' 'C' 'D' 'E' 'F' 'G' 'H' 'I' 'J' 'K' 'L' 'M' 'O' 'P' 'Q' 'R' 'S']\n",
            "Splitting dataset into train, validation and test datasets.\n",
            "Generating sliding windows from the data.\n",
            "Adding PAMAP2 data:\n",
            "   => Adding PAMAP2 data for activity:  sitting\n",
            "   => Adding PAMAP2 data for activity:  walking\n",
            "Saving data as numpy files.\n",
            "   -> Storing data as ./X_WISDM_PAMAP2_train ./Y_WISDM_PAMAP2_train\n",
            "   -> Storing data as ./X_WISDM_PAMAP2_val ./Y_WISDM_PAMAP2_val\n",
            "   -> Storing data as ./X_WISDM_PAMAP2_test ./Y_WISDM_PAMAP2_test\n"
          ],
          "name": "stdout"
        }
      ]
    }
  ]
}